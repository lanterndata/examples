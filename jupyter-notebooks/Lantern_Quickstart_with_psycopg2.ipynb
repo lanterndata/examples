{
  "nbformat": 4,
  "nbformat_minor": 0,
  "metadata": {
    "colab": {
      "provenance": []
    },
    "kernelspec": {
      "name": "python3",
      "display_name": "Python 3"
    },
    "language_info": {
      "name": "python"
    }
  },
  "cells": [
    {
      "cell_type": "markdown",
      "source": [
        "# Setup Postgres\n",
        "\n",
        "We install postgres and its dev tools (necessary to build lantern from source). We also start postgres, and set up a user 'postgres' with password 'postgres' and create a database called 'ourdb'\n",
        "\n",
        "\n"
      ],
      "metadata": {
        "id": "A1Z3MgBkhCG_"
      }
    },
    {
      "cell_type": "code",
      "execution_count": null,
      "metadata": {
        "colab": {
          "base_uri": "https://localhost:8080/"
        },
        "id": "VlkyHk2T0K2S",
        "outputId": "753333f8-ad65-45a7-fa1a-330ad5faaec5"
      },
      "outputs": [
        {
          "output_type": "stream",
          "name": "stdout",
          "text": [
            "debconf: unable to initialize frontend: Dialog\n",
            "debconf: (No usable dialog-like program is installed, so the dialog based frontend cannot be used. at /usr/share/perl5/Debconf/FrontEnd/Dialog.pm line 78, <> line 26.)\n",
            "debconf: falling back to frontend: Readline\n",
            "debconf: unable to initialize frontend: Readline\n",
            "debconf: (This frontend requires a controlling tty.)\n",
            "debconf: falling back to frontend: Teletype\n",
            "dpkg-preconfigure: unable to re-open stdin: \n",
            "Selecting previously unselected package logrotate.\n",
            "(Reading database ... 120874 files and directories currently installed.)\n",
            "Preparing to unpack .../00-logrotate_3.19.0-1ubuntu1.1_amd64.deb ...\n",
            "Unpacking logrotate (3.19.0-1ubuntu1.1) ...\n",
            "Selecting previously unselected package netbase.\n",
            "Preparing to unpack .../01-netbase_6.3_all.deb ...\n",
            "Unpacking netbase (6.3) ...\n",
            "Selecting previously unselected package python3-yaml.\n",
            "Preparing to unpack .../02-python3-yaml_5.4.1-1ubuntu1_amd64.deb ...\n",
            "Unpacking python3-yaml (5.4.1-1ubuntu1) ...\n",
            "Selecting previously unselected package binfmt-support.\n",
            "Preparing to unpack .../03-binfmt-support_2.2.1-2_amd64.deb ...\n",
            "Unpacking binfmt-support (2.2.1-2) ...\n",
            "Selecting previously unselected package libcommon-sense-perl:amd64.\n",
            "Preparing to unpack .../04-libcommon-sense-perl_3.75-2build1_amd64.deb ...\n",
            "Unpacking libcommon-sense-perl:amd64 (3.75-2build1) ...\n",
            "Selecting previously unselected package libjson-perl.\n",
            "Preparing to unpack .../05-libjson-perl_4.04000-1_all.deb ...\n",
            "Unpacking libjson-perl (4.04000-1) ...\n",
            "Selecting previously unselected package libtypes-serialiser-perl.\n",
            "Preparing to unpack .../06-libtypes-serialiser-perl_1.01-1_all.deb ...\n",
            "Unpacking libtypes-serialiser-perl (1.01-1) ...\n",
            "Selecting previously unselected package libjson-xs-perl.\n",
            "Preparing to unpack .../07-libjson-xs-perl_4.030-1build3_amd64.deb ...\n",
            "Unpacking libjson-xs-perl (4.030-1build3) ...\n",
            "Selecting previously unselected package llvm-14-runtime.\n",
            "Preparing to unpack .../08-llvm-14-runtime_1%3a14.0.0-1ubuntu1.1_amd64.deb ...\n",
            "Unpacking llvm-14-runtime (1:14.0.0-1ubuntu1.1) ...\n",
            "Selecting previously unselected package libpfm4:amd64.\n",
            "Preparing to unpack .../09-libpfm4_4.11.1+git32-gd0b85fb-1ubuntu0.1_amd64.deb ...\n",
            "Unpacking libpfm4:amd64 (4.11.1+git32-gd0b85fb-1ubuntu0.1) ...\n",
            "Selecting previously unselected package llvm-14.\n",
            "Preparing to unpack .../10-llvm-14_1%3a14.0.0-1ubuntu1.1_amd64.deb ...\n",
            "Unpacking llvm-14 (1:14.0.0-1ubuntu1.1) ...\n",
            "Selecting previously unselected package libffi-dev:amd64.\n",
            "Preparing to unpack .../11-libffi-dev_3.4.2-4_amd64.deb ...\n",
            "Unpacking libffi-dev:amd64 (3.4.2-4) ...\n",
            "Selecting previously unselected package python3-pygments.\n",
            "Preparing to unpack .../12-python3-pygments_2.11.2+dfsg-2_all.deb ...\n",
            "Unpacking python3-pygments (2.11.2+dfsg-2) ...\n",
            "Selecting previously unselected package llvm-14-tools.\n",
            "Preparing to unpack .../13-llvm-14-tools_1%3a14.0.0-1ubuntu1.1_amd64.deb ...\n",
            "Unpacking llvm-14-tools (1:14.0.0-1ubuntu1.1) ...\n",
            "Selecting previously unselected package libz3-4:amd64.\n",
            "Preparing to unpack .../14-libz3-4_4.8.12-1_amd64.deb ...\n",
            "Unpacking libz3-4:amd64 (4.8.12-1) ...\n",
            "Selecting previously unselected package libz3-dev:amd64.\n",
            "Preparing to unpack .../15-libz3-dev_4.8.12-1_amd64.deb ...\n",
            "Unpacking libz3-dev:amd64 (4.8.12-1) ...\n",
            "Selecting previously unselected package llvm-14-dev.\n",
            "Preparing to unpack .../16-llvm-14-dev_1%3a14.0.0-1ubuntu1.1_amd64.deb ...\n",
            "Unpacking llvm-14-dev (1:14.0.0-1ubuntu1.1) ...\n",
            "Selecting previously unselected package postgresql-client-common.\n",
            "Preparing to unpack .../17-postgresql-client-common_238_all.deb ...\n",
            "Unpacking postgresql-client-common (238) ...\n",
            "Selecting previously unselected package postgresql-client-14.\n",
            "Preparing to unpack .../18-postgresql-client-14_14.9-0ubuntu0.22.04.1_amd64.deb ...\n",
            "Unpacking postgresql-client-14 (14.9-0ubuntu0.22.04.1) ...\n",
            "Selecting previously unselected package ssl-cert.\n",
            "Preparing to unpack .../19-ssl-cert_1.1.2_all.deb ...\n",
            "Unpacking ssl-cert (1.1.2) ...\n",
            "Selecting previously unselected package postgresql-common.\n",
            "Preparing to unpack .../20-postgresql-common_238_all.deb ...\n",
            "Adding 'diversion of /usr/bin/pg_config to /usr/bin/pg_config.libpq-dev by postgresql-common'\n",
            "Unpacking postgresql-common (238) ...\n",
            "Selecting previously unselected package postgresql-14.\n",
            "Preparing to unpack .../21-postgresql-14_14.9-0ubuntu0.22.04.1_amd64.deb ...\n",
            "Unpacking postgresql-14 (14.9-0ubuntu0.22.04.1) ...\n",
            "Selecting previously unselected package postgresql.\n",
            "Preparing to unpack .../22-postgresql_14+238_all.deb ...\n",
            "Unpacking postgresql (14+238) ...\n",
            "Selecting previously unselected package postgresql-server-dev-14.\n",
            "Preparing to unpack .../23-postgresql-server-dev-14_14.9-0ubuntu0.22.04.1_amd64.deb ...\n",
            "Unpacking postgresql-server-dev-14 (14.9-0ubuntu0.22.04.1) ...\n",
            "Selecting previously unselected package postgresql-server-dev-all:amd64.\n",
            "Preparing to unpack .../24-postgresql-server-dev-all_238_amd64.deb ...\n",
            "Unpacking postgresql-server-dev-all:amd64 (238) ...\n",
            "Selecting previously unselected package sysstat.\n",
            "Preparing to unpack .../25-sysstat_12.5.2-2ubuntu0.2_amd64.deb ...\n",
            "Unpacking sysstat (12.5.2-2ubuntu0.2) ...\n",
            "Setting up logrotate (3.19.0-1ubuntu1.1) ...\n",
            "Created symlink /etc/systemd/system/timers.target.wants/logrotate.timer → /lib/systemd/system/logrotate.timer.\n",
            "Setting up libcommon-sense-perl:amd64 (3.75-2build1) ...\n",
            "Setting up python3-yaml (5.4.1-1ubuntu1) ...\n",
            "Setting up libffi-dev:amd64 (3.4.2-4) ...\n",
            "Setting up python3-pygments (2.11.2+dfsg-2) ...\n",
            "Setting up libz3-4:amd64 (4.8.12-1) ...\n",
            "Setting up libpfm4:amd64 (4.11.1+git32-gd0b85fb-1ubuntu0.1) ...\n",
            "Setting up llvm-14-runtime (1:14.0.0-1ubuntu1.1) ...\n",
            "Setting up ssl-cert (1.1.2) ...\n",
            "debconf: unable to initialize frontend: Dialog\n",
            "debconf: (No usable dialog-like program is installed, so the dialog based frontend cannot be used. at /usr/share/perl5/Debconf/FrontEnd/Dialog.pm line 78.)\n",
            "debconf: falling back to frontend: Readline\n",
            "Setting up binfmt-support (2.2.1-2) ...\n",
            "invoke-rc.d: could not determine current runlevel\n",
            "invoke-rc.d: policy-rc.d denied execution of restart.\n",
            "Created symlink /etc/systemd/system/multi-user.target.wants/binfmt-support.service → /lib/systemd/system/binfmt-support.service.\n",
            "Setting up libtypes-serialiser-perl (1.01-1) ...\n",
            "Setting up libjson-perl (4.04000-1) ...\n",
            "Setting up netbase (6.3) ...\n",
            "Setting up sysstat (12.5.2-2ubuntu0.2) ...\n",
            "debconf: unable to initialize frontend: Dialog\n",
            "debconf: (No usable dialog-like program is installed, so the dialog based frontend cannot be used. at /usr/share/perl5/Debconf/FrontEnd/Dialog.pm line 78.)\n",
            "debconf: falling back to frontend: Readline\n",
            "\n",
            "Creating config file /etc/default/sysstat with new version\n",
            "update-alternatives: using /usr/bin/sar.sysstat to provide /usr/bin/sar (sar) in auto mode\n",
            "Created symlink /etc/systemd/system/sysstat.service.wants/sysstat-collect.timer → /lib/systemd/system/sysstat-collect.timer.\n",
            "Created symlink /etc/systemd/system/sysstat.service.wants/sysstat-summary.timer → /lib/systemd/system/sysstat-summary.timer.\n",
            "Created symlink /etc/systemd/system/multi-user.target.wants/sysstat.service → /lib/systemd/system/sysstat.service.\n",
            "Setting up llvm-14 (1:14.0.0-1ubuntu1.1) ...\n",
            "Setting up llvm-14-tools (1:14.0.0-1ubuntu1.1) ...\n",
            "Setting up postgresql-client-common (238) ...\n",
            "Setting up libjson-xs-perl (4.030-1build3) ...\n",
            "Setting up libz3-dev:amd64 (4.8.12-1) ...\n",
            "Setting up postgresql-client-14 (14.9-0ubuntu0.22.04.1) ...\n",
            "update-alternatives: using /usr/share/postgresql/14/man/man1/psql.1.gz to provide /usr/share/man/man1/psql.1.gz (psql.1.gz) in auto mode\n",
            "Setting up postgresql-common (238) ...\n",
            "debconf: unable to initialize frontend: Dialog\n",
            "debconf: (No usable dialog-like program is installed, so the dialog based frontend cannot be used. at /usr/share/perl5/Debconf/FrontEnd/Dialog.pm line 78.)\n",
            "debconf: falling back to frontend: Readline\n",
            "Adding user postgres to group ssl-cert\n",
            "\n",
            "Creating config file /etc/postgresql-common/createcluster.conf with new version\n",
            "Building PostgreSQL dictionaries from installed myspell/hunspell packages...\n",
            "Removing obsolete dictionary files:\n",
            "Created symlink /etc/systemd/system/multi-user.target.wants/postgresql.service → /lib/systemd/system/postgresql.service.\n",
            "Setting up llvm-14-dev (1:14.0.0-1ubuntu1.1) ...\n",
            "Setting up postgresql-14 (14.9-0ubuntu0.22.04.1) ...\n",
            "debconf: unable to initialize frontend: Dialog\n",
            "debconf: (No usable dialog-like program is installed, so the dialog based frontend cannot be used. at /usr/share/perl5/Debconf/FrontEnd/Dialog.pm line 78.)\n",
            "debconf: falling back to frontend: Readline\n",
            "Creating new PostgreSQL cluster 14/main ...\n",
            "/usr/lib/postgresql/14/bin/initdb -D /var/lib/postgresql/14/main --auth-local peer --auth-host scram-sha-256 --no-instructions\n",
            "The files belonging to this database system will be owned by user \"postgres\".\n",
            "This user must also own the server process.\n",
            "\n",
            "The database cluster will be initialized with locale \"en_US.UTF-8\".\n",
            "The default database encoding has accordingly been set to \"UTF8\".\n",
            "The default text search configuration will be set to \"english\".\n",
            "\n",
            "Data page checksums are disabled.\n",
            "\n",
            "fixing permissions on existing directory /var/lib/postgresql/14/main ... ok\n",
            "creating subdirectories ... ok\n",
            "selecting dynamic shared memory implementation ... posix\n",
            "selecting default max_connections ... 100\n",
            "selecting default shared_buffers ... 128MB\n",
            "selecting default time zone ... Etc/UTC\n",
            "creating configuration files ... ok\n",
            "running bootstrap script ... ok\n",
            "performing post-bootstrap initialization ... ok\n",
            "syncing data to disk ... ok\n",
            "update-alternatives: using /usr/share/postgresql/14/man/man1/postmaster.1.gz to provide /usr/share/man/man1/postmaster.1.gz (postmaster.1.gz) in auto mode\n",
            "invoke-rc.d: could not determine current runlevel\n",
            "invoke-rc.d: policy-rc.d denied execution of start.\n",
            "Setting up postgresql-server-dev-14 (14.9-0ubuntu0.22.04.1) ...\n",
            "Setting up postgresql (14+238) ...\n",
            "Setting up postgresql-server-dev-all:amd64 (238) ...\n",
            "Processing triggers for man-db (2.10.2-1) ...\n",
            "Processing triggers for libc-bin (2.35-0ubuntu3.1) ...\n",
            "/sbin/ldconfig.real: /usr/local/lib/libtbbbind_2_0.so.3 is not a symbolic link\n",
            "\n",
            "/sbin/ldconfig.real: /usr/local/lib/libtbb.so.12 is not a symbolic link\n",
            "\n",
            "/sbin/ldconfig.real: /usr/local/lib/libtbbbind.so.3 is not a symbolic link\n",
            "\n",
            "/sbin/ldconfig.real: /usr/local/lib/libtbbmalloc_proxy.so.2 is not a symbolic link\n",
            "\n",
            "/sbin/ldconfig.real: /usr/local/lib/libtbbbind_2_5.so.3 is not a symbolic link\n",
            "\n",
            "/sbin/ldconfig.real: /usr/local/lib/libtbbmalloc.so.2 is not a symbolic link\n",
            "\n",
            " * Starting PostgreSQL 14 database server\n",
            "   ...done.\n",
            "ALTER ROLE\n",
            "NOTICE:  database \"ourdb\" does not exist, skipping\n",
            "DROP DATABASE\n",
            "CREATE DATABASE\n"
          ]
        }
      ],
      "source": [
        "# We install postgres and its dev tools\n",
        "!sudo apt-get -y -qq update\n",
        "!sudo apt-get -y -qq install postgresql postgresql-server-dev-all\n",
        "#  Start postgres\n",
        "!sudo service postgresql start\n",
        "\n",
        "# Create user, password, and db\n",
        "!sudo -u postgres psql -U postgres -c \"ALTER USER postgres PASSWORD 'postgres';\"\n",
        "!sudo -u postgres psql -U postgres -c 'DROP DATABASE IF EXISTS ourdb;'\n",
        "!sudo -u postgres psql -U postgres -c 'CREATE DATABASE ourdb;'"
      ]
    },
    {
      "cell_type": "markdown",
      "source": [
        "# Install Lantern and build it from source"
      ],
      "metadata": {
        "id": "8aNc8o2AhnQE"
      }
    },
    {
      "cell_type": "code",
      "source": [
        "!git clone --recursive https://github.com/lanterndata/lantern.git"
      ],
      "metadata": {
        "colab": {
          "base_uri": "https://localhost:8080/"
        },
        "id": "KAR_YiOIrWTV",
        "outputId": "1476c0b6-e84d-41b3-8f58-618546bf001e"
      },
      "execution_count": null,
      "outputs": [
        {
          "output_type": "stream",
          "name": "stdout",
          "text": [
            "Cloning into 'lantern'...\n",
            "remote: Enumerating objects: 2562, done.\u001b[K\n",
            "remote: Counting objects: 100% (1342/1342), done.\u001b[K\n",
            "remote: Compressing objects: 100% (414/414), done.\u001b[K\n",
            "remote: Total 2562 (delta 1068), reused 1003 (delta 922), pack-reused 1220\u001b[K\n",
            "Receiving objects: 100% (2562/2562), 578.18 KiB | 3.85 MiB/s, done.\n",
            "Resolving deltas: 100% (1698/1698), done.\n",
            "Submodule 'third_party/hnswlib' (https://github.com/ngalstyan4/hnswlib) registered for path 'third_party/hnswlib'\n",
            "Submodule 'third_party/usearch' (https://github.com/ngalstyan4/usearch) registered for path 'third_party/usearch'\n",
            "Cloning into '/content/lantern/third_party/hnswlib'...\n",
            "remote: Enumerating objects: 1723, done.        \n",
            "remote: Counting objects: 100% (333/333), done.        \n",
            "remote: Compressing objects: 100% (40/40), done.        \n",
            "remote: Total 1723 (delta 306), reused 293 (delta 293), pack-reused 1390        \n",
            "Receiving objects: 100% (1723/1723), 530.50 KiB | 9.15 MiB/s, done.\n",
            "Resolving deltas: 100% (1097/1097), done.\n",
            "Cloning into '/content/lantern/third_party/usearch'...\n",
            "remote: Enumerating objects: 4574, done.        \n",
            "remote: Counting objects: 100% (997/997), done.        \n",
            "remote: Compressing objects: 100% (112/112), done.        \n",
            "remote: Total 4574 (delta 924), reused 886 (delta 884), pack-reused 3577        \n",
            "Receiving objects: 100% (4574/4574), 4.34 MiB | 16.73 MiB/s, done.\n",
            "Resolving deltas: 100% (2519/2519), done.\n",
            "Submodule path 'third_party/hnswlib': checked out 'a64a7626342ce6e78d7864e443186b9f1d78a8f8'\n",
            "Submodule path 'third_party/usearch': checked out '211573994631f979cad3831a87563d268ed39299'\n",
            "Submodule 'fp16' (https://github.com/maratyszcza/fp16) registered for path 'third_party/usearch/fp16'\n",
            "Submodule 'robin-map' (https://github.com/tessil/robin-map) registered for path 'third_party/usearch/robin-map'\n",
            "Submodule 'simsimd' (https://github.com/ashvardanian/simsimd) registered for path 'third_party/usearch/simsimd'\n",
            "Cloning into '/content/lantern/third_party/usearch/fp16'...\n",
            "remote: Enumerating objects: 293, done.        \n",
            "remote: Counting objects: 100% (7/7), done.        \n",
            "remote: Compressing objects: 100% (7/7), done.        \n",
            "remote: Total 293 (delta 2), reused 3 (delta 0), pack-reused 286        \n",
            "Receiving objects: 100% (293/293), 108.77 KiB | 3.20 MiB/s, done.\n",
            "Resolving deltas: 100% (161/161), done.\n",
            "Cloning into '/content/lantern/third_party/usearch/robin-map'...\n",
            "remote: Enumerating objects: 1098, done.        \n",
            "remote: Counting objects: 100% (152/152), done.        \n",
            "remote: Compressing objects: 100% (58/58), done.        \n",
            "remote: Total 1098 (delta 105), reused 114 (delta 81), pack-reused 946        \n",
            "Receiving objects: 100% (1098/1098), 875.38 KiB | 10.42 MiB/s, done.\n",
            "Resolving deltas: 100% (752/752), done.\n",
            "Cloning into '/content/lantern/third_party/usearch/simsimd'...\n",
            "remote: Enumerating objects: 1772, done.        \n",
            "remote: Counting objects: 100% (192/192), done.        \n",
            "remote: Compressing objects: 100% (84/84), done.        \n",
            "remote: Total 1772 (delta 111), reused 125 (delta 97), pack-reused 1580        \n",
            "Receiving objects: 100% (1772/1772), 341.58 KiB | 5.51 MiB/s, done.\n",
            "Resolving deltas: 100% (929/929), done.\n",
            "Submodule path 'third_party/usearch/fp16': checked out '0a92994d729ff76a58f692d3028ca1b64b145d91'\n",
            "Submodule path 'third_party/usearch/robin-map': checked out '851a59e0e3063ee0e23089062090a73fd3de482d'\n",
            "Submodule path 'third_party/usearch/simsimd': checked out '74760c7d9a018bb6c959db75e7898186d79a9faa'\n"
          ]
        }
      ]
    },
    {
      "cell_type": "code",
      "source": [
        "# We build lantern from source\n",
        "%cd lantern\n",
        "!mkdir build\n",
        "%cd build\n",
        "!pwd\n",
        "!cmake ..\n",
        "!make install"
      ],
      "metadata": {
        "colab": {
          "base_uri": "https://localhost:8080/"
        },
        "id": "zgHLB3Czs5ua",
        "outputId": "205a9585-34fd-45a1-8227-23a1c80126a3"
      },
      "execution_count": null,
      "outputs": [
        {
          "output_type": "stream",
          "name": "stdout",
          "text": [
            "/content/lantern\n",
            "/content/lantern/build\n",
            "/content/lantern/build\n",
            "\u001b[0mCMake Deprecation Warning at CMakeLists.txt:1 (cmake_minimum_required):\n",
            "  Compatibility with CMake < 3.5 will be removed from a future version of\n",
            "  CMake.\n",
            "\n",
            "  Update the VERSION argument <min> value or use a ...<max> suffix to tell\n",
            "  CMake that the project does not need compatibility with older versions.\n",
            "\n",
            "\u001b[0m\n",
            "-- The C compiler identification is GNU 11.4.0\n",
            "-- The CXX compiler identification is GNU 11.4.0\n",
            "-- Detecting C compiler ABI info\n",
            "-- Detecting C compiler ABI info - done\n",
            "-- Check for working C compiler: /usr/bin/cc - skipped\n",
            "-- Detecting C compile features\n",
            "-- Detecting C compile features - done\n",
            "-- Detecting CXX compiler ABI info\n",
            "-- Detecting CXX compiler ABI info - done\n",
            "-- Check for working CXX compiler: /usr/bin/c++ - skipped\n",
            "-- Detecting CXX compile features\n",
            "-- Detecting CXX compile features - done\n",
            "-- Build type: \n",
            "-- Found pg_config as /usr/bin/pg_config\n",
            "-- Found postgres binary at /usr/lib/postgresql/14/bin/postgres\n",
            "-- PostgreSQL version PostgreSQL 14.9 (Ubuntu 14.9-0ubuntu0.22.04.1) found\n",
            "-- PostgreSQL package library directory: /usr/lib/postgresql/14/lib\n",
            "-- PostgreSQL libraries: -lpgcommon -lpgport -lselinux -llz4 -lxslt -lxml2 -lpam -lssl -lcrypto -lgssapi_krb5 -lz -lreadline -lm\n",
            "-- PostgreSQL extension directory: /usr/share/postgresql/14/extension\n",
            "-- PostgreSQL linker options: -Wl,-Bsymbolic-functions;-flto=auto;-ffat-lto-objects;-flto=auto;-Wl,-z,relro;-Wl,-z,now;-L/usr/lib/llvm-14/lib;-Wl,--as-needed,\n",
            "-- PostgreSQL shared linker options: -Wl,-Bsymbolic-functions -flto=auto -ffat-lto-objects -flto=auto -Wl,-z,relro -Wl,-z,now -L/usr/lib/llvm-14/lib -Wl,--as-needed \n",
            "\u001b[0mCMake Deprecation Warning at third_party/usearch/c/CMakeLists.txt:1 (cmake_minimum_required):\n",
            "  Compatibility with CMake < 3.5 will be removed from a future version of\n",
            "  CMake.\n",
            "\n",
            "  Update the VERSION argument <min> value or use a ...<max> suffix to tell\n",
            "  CMake that the project does not need compatibility with older versions.\n",
            "\n",
            "\u001b[0m\n",
            "-- Configuring done (1.0s)\n",
            "-- Generating done (0.0s)\n",
            "-- Build files have been written to: /content/lantern/build\n",
            "[  5%] \u001b[32mBuilding CXX object third_party/usearch/c/CMakeFiles/usearch_c.dir/lib.cpp.o\u001b[0m\n",
            "[ 10%] \u001b[32m\u001b[1mLinking CXX static library ../../../libusearch_c.a\u001b[0m\n",
            "[ 10%] Built target usearch_c\n",
            "[ 15%] \u001b[32mBuilding C object CMakeFiles/lantern.dir/src/hnsw.c.o\u001b[0m\n",
            "[ 21%] \u001b[32mBuilding C object CMakeFiles/lantern.dir/src/hnsw/build.c.o\u001b[0m\n",
            "[ 26%] \u001b[32mBuilding C object CMakeFiles/lantern.dir/src/hnsw/delete.c.o\u001b[0m\n",
            "[ 31%] \u001b[32mBuilding C object CMakeFiles/lantern.dir/src/hnsw/external_index.c.o\u001b[0m\n",
            "[ 36%] \u001b[32mBuilding C object CMakeFiles/lantern.dir/src/hnsw/extra_dirtied.c.o\u001b[0m\n",
            "[ 42%] \u001b[32mBuilding C object CMakeFiles/lantern.dir/src/hnsw/htab_cache.c.o\u001b[0m\n",
            "[ 47%] \u001b[32mBuilding C object CMakeFiles/lantern.dir/src/hnsw/insert.c.o\u001b[0m\n",
            "[ 52%] \u001b[32mBuilding C object CMakeFiles/lantern.dir/src/hnsw/options.c.o\u001b[0m\n",
            "[ 57%] \u001b[32mBuilding C object CMakeFiles/lantern.dir/src/hnsw/retriever.c.o\u001b[0m\n",
            "[ 63%] \u001b[32mBuilding C object CMakeFiles/lantern.dir/src/hnsw/scan.c.o\u001b[0m\n",
            "[ 68%] \u001b[32mBuilding C object CMakeFiles/lantern.dir/src/hnsw/utils.c.o\u001b[0m\n",
            "[ 73%] \u001b[32mBuilding C object CMakeFiles/lantern.dir/src/hooks/executor_start.c.o\u001b[0m\n",
            "[ 78%] \u001b[32mBuilding C object CMakeFiles/lantern.dir/src/hooks/plan_tree_walker.c.o\u001b[0m\n",
            "[ 84%] \u001b[32mBuilding C object CMakeFiles/lantern.dir/src/hooks/post_parse.c.o\u001b[0m\n",
            "[ 89%] \u001b[32mBuilding C object CMakeFiles/lantern.dir/src/hooks/utils.c.o\u001b[0m\n",
            "[ 94%] \u001b[32m\u001b[1mLinking C shared module lantern.so\u001b[0m\n",
            "[ 94%] Built target lantern\n",
            "[100%] \u001b[34m\u001b[1mCopying lantern.sql into a versioned filename\u001b[0m\n",
            "[100%] Built target phony_always_runs\n",
            "\u001b[36mInstall the project...\u001b[0m\n",
            "-- Install configuration: \"\"\n",
            "-- Installing: /usr/lib/postgresql/14/lib/lantern.so\n",
            "-- Set runtime path of \"/usr/lib/postgresql/14/lib/lantern.so\" to \"\"\n",
            "-- Installing: /usr/share/postgresql/14/extension/lantern.control\n",
            "-- Installing: /usr/share/postgresql/14/extension/lantern--0.0.4.sql\n",
            "-- Installing: /usr/share/postgresql/14/extension/lantern--0.0.4--latest.sql\n"
          ]
        }
      ]
    },
    {
      "cell_type": "markdown",
      "source": [
        "# Lantern Quickstart\n",
        "\n",
        "Here, we use the `psycopg2` library to interact with Postgres from Python.\n",
        "The first step is to obtain a `conn` object to the postgres instance on our machine. We use the `connect` function and specify the user, password, and database name we used from earlier. The `host` and `port` parameters also let `psycopg2` know how to connect to postgres, and are the default values if you're running postgres locally.  \n",
        "\n",
        "NOTE: if at any time you encounter an error while executing a query, you should call `conn.rollback()` to restore the database to the most recent transaction."
      ],
      "metadata": {
        "id": "rK226V3ghxgA"
      }
    },
    {
      "cell_type": "code",
      "source": [
        "import psycopg2\n",
        "\n",
        "# We use the dbname, user, and password that we specified above\n",
        "conn = psycopg2.connect(\n",
        "    dbname=\"ourdb\",\n",
        "    user=\"postgres\",\n",
        "    password=\"postgres\",\n",
        "    host=\"localhost\",\n",
        "    port=\"5432\" # default port for Postgres\n",
        ")"
      ],
      "metadata": {
        "id": "8TqWYvu_VMpn"
      },
      "execution_count": null,
      "outputs": []
    },
    {
      "cell_type": "markdown",
      "source": [
        "# Enabling the Lantern extension\n",
        "Lantern is a postgres extension, and so we need to tell postgres about it so that it can use it when we perform vector searches! So, we use the `CREATE EXTENSION` statement, and use `IF NOT EXISTS` to avoid throwing an error if the extension is already loaded."
      ],
      "metadata": {
        "id": "A6xIafQFka3y"
      }
    },
    {
      "cell_type": "code",
      "source": [
        "# Get a new cursor\n",
        "cursor = conn.cursor()\n",
        "\n",
        "# Execute the query to load the Lantern extension in\n",
        "cursor.execute(\"CREATE EXTENSION IF NOT EXISTS lantern;\")\n",
        "\n",
        "# Commit the transaction\n",
        "conn.commit()\n",
        "\n",
        "# Close the cursor\n",
        "cursor.close()"
      ],
      "metadata": {
        "id": "OJ_jQo5fkbEr"
      },
      "execution_count": null,
      "outputs": []
    },
    {
      "cell_type": "markdown",
      "source": [
        "# Creating a Table\n",
        "\n",
        "Let's create a simple table called `small_world` with three columns: an `id` column of the type `INTEGER`, and an array of real numbers (of the type `REAL[]`).\n",
        "\n",
        "Note that although we specify \"3\" in the type of `vector` (by writing `REAL[3]`), this is actually only just syntactic sugar in postgres, and postgres will NOT enforce this length! This is done in postgres by design."
      ],
      "metadata": {
        "id": "daRUvaW9icZC"
      }
    },
    {
      "cell_type": "code",
      "source": [
        "cursor = conn.cursor()\n",
        "\n",
        "create_table_query = \"CREATE TABLE small_world (id integer, vector real[3]);\"\n",
        "\n",
        "cursor.execute(create_table_query)\n",
        "\n",
        "conn.commit()\n",
        "cursor.close()"
      ],
      "metadata": {
        "id": "f1QjZNKQW_zP"
      },
      "execution_count": null,
      "outputs": []
    },
    {
      "cell_type": "markdown",
      "source": [
        "# Inserting Data\n",
        "\n",
        "Let's insert some data! We insert a few vectors into our table using the `INSERT` statement. As pointed out earlier, just because we specified `REAL[3]` during the creation of our table does not mean that inserting a vector with length other than 3 will fail here."
      ],
      "metadata": {
        "id": "hCEqbfTZjE8H"
      }
    },
    {
      "cell_type": "code",
      "source": [
        "cursor = conn.cursor()\n",
        "\n",
        "# Let's insert a vector [0,0,0] with id 0 (note that postgres uses {} braces)\n",
        "cursor.execute(\"INSERT INTO small_world (id, vector) VALUES (0, '{0, 0, 0}');\")\n",
        "\n",
        "# Now let's insert some more vectors\n",
        "v1 = [0, 0, 1]\n",
        "v2 = [0, 1, 1]\n",
        "v3 = [1, 1, 1]\n",
        "v4 = [2, 0, 1]\n",
        "\n",
        "cursor.execute(\"INSERT INTO small_world (id, vector) VALUES (%s, %s), (%s, %s), (%s, %s), (%s, %s);\", (1, v1, 2, v2, 3, v3, 4, v4))\n",
        "\n",
        "conn.commit()\n",
        "cursor.close()"
      ],
      "metadata": {
        "id": "ljgOTm0VYb6N"
      },
      "execution_count": null,
      "outputs": []
    },
    {
      "cell_type": "markdown",
      "source": [
        "# Creating an Index\n",
        "In order to perform queries, we need to specify an index. In postgres, an index is a specialized way to store data that speeds up and allows for new ways to interact with your data. The `hnsw` index is from lantern, and it allows for blazingly fast vector search.\n",
        "\n",
        "Note that we can specify options and parameters to our index creation. For example, we can specify the distance method that is used, which is how we calculate the distance between two vectors when we ultimately search for a vector's nearest neighbors. The default, as used below, is `l2sq`, which is the squared L-2 distance (which is the squared \"Euclidean\" distance, that you might be familiar with)."
      ],
      "metadata": {
        "id": "rhEKRHZqmdk5"
      }
    },
    {
      "cell_type": "code",
      "source": [
        "cursor = conn.cursor()\n",
        "\n",
        "cursor.execute(\"CREATE INDEX ON small_world USING hnsw (vector);\")\n",
        "\n",
        "# We can also specify additional parameters to the index like this:\n",
        "\"\"\"CREATE INDEX ON small_world USING hnsw (vector dist_l2sq_ops)\n",
        "WITH\n",
        "(M=2, ef_construction=10, ef=4, dim=3);\"\"\"\n",
        "\n",
        "conn.commit()\n",
        "cursor.close()"
      ],
      "metadata": {
        "id": "a-7L4MR7dUp_"
      },
      "execution_count": null,
      "outputs": []
    },
    {
      "cell_type": "markdown",
      "source": [
        "# Vector Search!\n",
        "Now that we have created an index, we can start doing a nearest-neightbor vector search!\n",
        "\n",
        "However, we first need to set `enable_seqscan` to false. The details of this can be elaborated upon elsewhere, but the gist of it is that we need postgres to use the index that we created above when performing queries (like with `SELECT`). By disabling this postgres runtime variable, we make sure that postgres always uses our index, which allows us to perform vector search using lantern.\n",
        "\n",
        "Then, we do a search for the 3 nearest neighbors from our table to the vector [0,0,0]. Note that this \"target\" vector ([0,0,0]) does not need to be in our index. It is simply the vector from which we compute the distance from to find its nearest neightbors.\n",
        "\n",
        "Since our index was built to use the L2-squared distance (squared Euclidean distance), and so that is the distance that is used during the search below. Note that `l2sq_dist` found in the first part of the statement only recomputes the distance with the neighbors to show up in the query for our convenience! The actual search, which occurs in the second half of the SQL statement, performs search in the index which was configured to use L2-squared distance when we built it above. Hence, we see this distance being reflected in the print statements below."
      ],
      "metadata": {
        "id": "D4GiZzRrmx71"
      }
    },
    {
      "cell_type": "code",
      "source": [
        "cursor = conn.cursor()\n",
        "\n",
        "# We only need to set this at the beginning of a session\n",
        "cursor.execute(\"SET enable_seqscan = false;\")\n",
        "cursor.execute(\"SELECT id, l2sq_dist(vector, ARRAY[0,0,0]) AS dist, vector FROM small_world ORDER BY vector <-> ARRAY[0,0,0] LIMIT 3;\")\n",
        "\n",
        "record = cursor.fetchone()\n",
        "while record:\n",
        "    print(f\"Vector {record[2]} with ID {record[0]} has a L2-squared distance of {record[1]} from [0,0,0]\")\n",
        "    record = cursor.fetchone()\n",
        "\n",
        "cursor.close()"
      ],
      "metadata": {
        "colab": {
          "base_uri": "https://localhost:8080/"
        },
        "id": "TumFTYZCbd5C",
        "outputId": "389c01be-041c-4fa4-9cc2-b58061373fe4"
      },
      "execution_count": null,
      "outputs": [
        {
          "output_type": "stream",
          "name": "stdout",
          "text": [
            "Vector [0.0, 0.0, 0.0] with ID 0 has a L2-squared distance of 0.0 from [0,0,0]\n",
            "Vector [0.0, 0.0, 1.0] with ID 1 has a L2-squared distance of 1.0 from [0,0,0]\n",
            "Vector [0.0, 1.0, 1.0] with ID 2 has a L2-squared distance of 2.0 from [0,0,0]\n"
          ]
        }
      ]
    },
    {
      "cell_type": "markdown",
      "source": [
        "# Conclusion\n",
        "That's how you get up and running using Lantern and `psycopg2`! Feel free to explore more of our tutorials and demos."
      ],
      "metadata": {
        "id": "dmByZGHsZMVx"
      }
    },
    {
      "cell_type": "markdown",
      "source": [
        "### Cleanup"
      ],
      "metadata": {
        "id": "A0IrqXdYZT9O"
      }
    },
    {
      "cell_type": "code",
      "source": [
        "# Close the postgres connection\n",
        "conn.close()"
      ],
      "metadata": {
        "id": "ou-IoBlKZdNf"
      },
      "execution_count": null,
      "outputs": []
    }
  ]
}