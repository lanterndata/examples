{
  "nbformat": 4,
  "nbformat_minor": 0,
  "metadata": {
    "colab": {
      "provenance": []
    },
    "kernelspec": {
      "name": "python3",
      "display_name": "Python 3"
    },
    "language_info": {
      "name": "python"
    }
  },
  "cells": [
    {
      "cell_type": "markdown",
      "source": [
        "# Introduction\n",
        "Here, we will use Lantern to implement a movie recommendation system. We will be able to search for movies similar to ones that a user has enjoyed so that we can show relevant recommendations.\n",
        "\n",
        "We will use movie data from the [MovieLens 1M dataset](https://grouplens.org/datasets/movielens/1m/).\n"
      ],
      "metadata": {
        "id": "-EUOVF5b9h6I"
      }
    },
    {
      "cell_type": "markdown",
      "source": [
        "# Setup Postgres\n",
        "\n",
        "We install postgres and its dev tools (necessary to build lantern from source). We also start postgres, and set up a user 'postgres' with password 'postgres' and create a database called 'ourdb'\n",
        "\n",
        "\n"
      ],
      "metadata": {
        "id": "A1Z3MgBkhCG_"
      }
    },
    {
      "cell_type": "code",
      "execution_count": null,
      "metadata": {
        "colab": {
          "base_uri": "https://localhost:8080/"
        },
        "id": "VlkyHk2T0K2S",
        "outputId": "c7db46a9-3c8c-499b-824e-74197bcd1f56"
      },
      "outputs": [
        {
          "output_type": "stream",
          "name": "stdout",
          "text": [
            "debconf: unable to initialize frontend: Dialog\n",
            "debconf: (No usable dialog-like program is installed, so the dialog based frontend cannot be used. at /usr/share/perl5/Debconf/FrontEnd/Dialog.pm line 78, <> line 26.)\n",
            "debconf: falling back to frontend: Readline\n",
            "debconf: unable to initialize frontend: Readline\n",
            "debconf: (This frontend requires a controlling tty.)\n",
            "debconf: falling back to frontend: Teletype\n",
            "dpkg-preconfigure: unable to re-open stdin: \n",
            "Selecting previously unselected package logrotate.\n",
            "(Reading database ... 120874 files and directories currently installed.)\n",
            "Preparing to unpack .../00-logrotate_3.19.0-1ubuntu1.1_amd64.deb ...\n",
            "Unpacking logrotate (3.19.0-1ubuntu1.1) ...\n",
            "Selecting previously unselected package netbase.\n",
            "Preparing to unpack .../01-netbase_6.3_all.deb ...\n",
            "Unpacking netbase (6.3) ...\n",
            "Selecting previously unselected package python3-yaml.\n",
            "Preparing to unpack .../02-python3-yaml_5.4.1-1ubuntu1_amd64.deb ...\n",
            "Unpacking python3-yaml (5.4.1-1ubuntu1) ...\n",
            "Selecting previously unselected package binfmt-support.\n",
            "Preparing to unpack .../03-binfmt-support_2.2.1-2_amd64.deb ...\n",
            "Unpacking binfmt-support (2.2.1-2) ...\n",
            "Selecting previously unselected package libcommon-sense-perl:amd64.\n",
            "Preparing to unpack .../04-libcommon-sense-perl_3.75-2build1_amd64.deb ...\n",
            "Unpacking libcommon-sense-perl:amd64 (3.75-2build1) ...\n",
            "Selecting previously unselected package libjson-perl.\n",
            "Preparing to unpack .../05-libjson-perl_4.04000-1_all.deb ...\n",
            "Unpacking libjson-perl (4.04000-1) ...\n",
            "Selecting previously unselected package libtypes-serialiser-perl.\n",
            "Preparing to unpack .../06-libtypes-serialiser-perl_1.01-1_all.deb ...\n",
            "Unpacking libtypes-serialiser-perl (1.01-1) ...\n",
            "Selecting previously unselected package libjson-xs-perl.\n",
            "Preparing to unpack .../07-libjson-xs-perl_4.030-1build3_amd64.deb ...\n",
            "Unpacking libjson-xs-perl (4.030-1build3) ...\n",
            "Selecting previously unselected package llvm-14-runtime.\n",
            "Preparing to unpack .../08-llvm-14-runtime_1%3a14.0.0-1ubuntu1.1_amd64.deb ...\n",
            "Unpacking llvm-14-runtime (1:14.0.0-1ubuntu1.1) ...\n",
            "Selecting previously unselected package libpfm4:amd64.\n",
            "Preparing to unpack .../09-libpfm4_4.11.1+git32-gd0b85fb-1ubuntu0.1_amd64.deb ...\n",
            "Unpacking libpfm4:amd64 (4.11.1+git32-gd0b85fb-1ubuntu0.1) ...\n",
            "Selecting previously unselected package llvm-14.\n",
            "Preparing to unpack .../10-llvm-14_1%3a14.0.0-1ubuntu1.1_amd64.deb ...\n",
            "Unpacking llvm-14 (1:14.0.0-1ubuntu1.1) ...\n",
            "Selecting previously unselected package libffi-dev:amd64.\n",
            "Preparing to unpack .../11-libffi-dev_3.4.2-4_amd64.deb ...\n",
            "Unpacking libffi-dev:amd64 (3.4.2-4) ...\n",
            "Selecting previously unselected package python3-pygments.\n",
            "Preparing to unpack .../12-python3-pygments_2.11.2+dfsg-2_all.deb ...\n",
            "Unpacking python3-pygments (2.11.2+dfsg-2) ...\n",
            "Selecting previously unselected package llvm-14-tools.\n",
            "Preparing to unpack .../13-llvm-14-tools_1%3a14.0.0-1ubuntu1.1_amd64.deb ...\n",
            "Unpacking llvm-14-tools (1:14.0.0-1ubuntu1.1) ...\n",
            "Selecting previously unselected package libz3-4:amd64.\n",
            "Preparing to unpack .../14-libz3-4_4.8.12-1_amd64.deb ...\n",
            "Unpacking libz3-4:amd64 (4.8.12-1) ...\n",
            "Selecting previously unselected package libz3-dev:amd64.\n",
            "Preparing to unpack .../15-libz3-dev_4.8.12-1_amd64.deb ...\n",
            "Unpacking libz3-dev:amd64 (4.8.12-1) ...\n",
            "Selecting previously unselected package llvm-14-dev.\n",
            "Preparing to unpack .../16-llvm-14-dev_1%3a14.0.0-1ubuntu1.1_amd64.deb ...\n",
            "Unpacking llvm-14-dev (1:14.0.0-1ubuntu1.1) ...\n",
            "Selecting previously unselected package postgresql-client-common.\n",
            "Preparing to unpack .../17-postgresql-client-common_238_all.deb ...\n",
            "Unpacking postgresql-client-common (238) ...\n",
            "Selecting previously unselected package postgresql-client-14.\n",
            "Preparing to unpack .../18-postgresql-client-14_14.9-0ubuntu0.22.04.1_amd64.deb ...\n",
            "Unpacking postgresql-client-14 (14.9-0ubuntu0.22.04.1) ...\n",
            "Selecting previously unselected package ssl-cert.\n",
            "Preparing to unpack .../19-ssl-cert_1.1.2_all.deb ...\n",
            "Unpacking ssl-cert (1.1.2) ...\n",
            "Selecting previously unselected package postgresql-common.\n",
            "Preparing to unpack .../20-postgresql-common_238_all.deb ...\n",
            "Adding 'diversion of /usr/bin/pg_config to /usr/bin/pg_config.libpq-dev by postgresql-common'\n",
            "Unpacking postgresql-common (238) ...\n",
            "Selecting previously unselected package postgresql-14.\n",
            "Preparing to unpack .../21-postgresql-14_14.9-0ubuntu0.22.04.1_amd64.deb ...\n",
            "Unpacking postgresql-14 (14.9-0ubuntu0.22.04.1) ...\n",
            "Selecting previously unselected package postgresql.\n",
            "Preparing to unpack .../22-postgresql_14+238_all.deb ...\n",
            "Unpacking postgresql (14+238) ...\n",
            "Selecting previously unselected package postgresql-server-dev-14.\n",
            "Preparing to unpack .../23-postgresql-server-dev-14_14.9-0ubuntu0.22.04.1_amd64.deb ...\n",
            "Unpacking postgresql-server-dev-14 (14.9-0ubuntu0.22.04.1) ...\n",
            "Selecting previously unselected package postgresql-server-dev-all:amd64.\n",
            "Preparing to unpack .../24-postgresql-server-dev-all_238_amd64.deb ...\n",
            "Unpacking postgresql-server-dev-all:amd64 (238) ...\n",
            "Selecting previously unselected package sysstat.\n",
            "Preparing to unpack .../25-sysstat_12.5.2-2ubuntu0.2_amd64.deb ...\n",
            "Unpacking sysstat (12.5.2-2ubuntu0.2) ...\n",
            "Setting up logrotate (3.19.0-1ubuntu1.1) ...\n",
            "Created symlink /etc/systemd/system/timers.target.wants/logrotate.timer → /lib/systemd/system/logrotate.timer.\n",
            "Setting up libcommon-sense-perl:amd64 (3.75-2build1) ...\n",
            "Setting up python3-yaml (5.4.1-1ubuntu1) ...\n",
            "Setting up libffi-dev:amd64 (3.4.2-4) ...\n",
            "Setting up python3-pygments (2.11.2+dfsg-2) ...\n",
            "Setting up libz3-4:amd64 (4.8.12-1) ...\n",
            "Setting up libpfm4:amd64 (4.11.1+git32-gd0b85fb-1ubuntu0.1) ...\n",
            "Setting up llvm-14-runtime (1:14.0.0-1ubuntu1.1) ...\n",
            "Setting up ssl-cert (1.1.2) ...\n",
            "debconf: unable to initialize frontend: Dialog\n",
            "debconf: (No usable dialog-like program is installed, so the dialog based frontend cannot be used. at /usr/share/perl5/Debconf/FrontEnd/Dialog.pm line 78.)\n",
            "debconf: falling back to frontend: Readline\n",
            "Setting up binfmt-support (2.2.1-2) ...\n",
            "invoke-rc.d: could not determine current runlevel\n",
            "invoke-rc.d: policy-rc.d denied execution of restart.\n",
            "Created symlink /etc/systemd/system/multi-user.target.wants/binfmt-support.service → /lib/systemd/system/binfmt-support.service.\n",
            "Setting up libtypes-serialiser-perl (1.01-1) ...\n",
            "Setting up libjson-perl (4.04000-1) ...\n",
            "Setting up netbase (6.3) ...\n",
            "Setting up sysstat (12.5.2-2ubuntu0.2) ...\n",
            "debconf: unable to initialize frontend: Dialog\n",
            "debconf: (No usable dialog-like program is installed, so the dialog based frontend cannot be used. at /usr/share/perl5/Debconf/FrontEnd/Dialog.pm line 78.)\n",
            "debconf: falling back to frontend: Readline\n",
            "\n",
            "Creating config file /etc/default/sysstat with new version\n",
            "update-alternatives: using /usr/bin/sar.sysstat to provide /usr/bin/sar (sar) in auto mode\n",
            "Created symlink /etc/systemd/system/sysstat.service.wants/sysstat-collect.timer → /lib/systemd/system/sysstat-collect.timer.\n",
            "Created symlink /etc/systemd/system/sysstat.service.wants/sysstat-summary.timer → /lib/systemd/system/sysstat-summary.timer.\n",
            "Created symlink /etc/systemd/system/multi-user.target.wants/sysstat.service → /lib/systemd/system/sysstat.service.\n",
            "Setting up llvm-14 (1:14.0.0-1ubuntu1.1) ...\n",
            "Setting up llvm-14-tools (1:14.0.0-1ubuntu1.1) ...\n",
            "Setting up postgresql-client-common (238) ...\n",
            "Setting up libjson-xs-perl (4.030-1build3) ...\n",
            "Setting up libz3-dev:amd64 (4.8.12-1) ...\n",
            "Setting up postgresql-client-14 (14.9-0ubuntu0.22.04.1) ...\n",
            "update-alternatives: using /usr/share/postgresql/14/man/man1/psql.1.gz to provide /usr/share/man/man1/psql.1.gz (psql.1.gz) in auto mode\n",
            "Setting up postgresql-common (238) ...\n",
            "debconf: unable to initialize frontend: Dialog\n",
            "debconf: (No usable dialog-like program is installed, so the dialog based frontend cannot be used. at /usr/share/perl5/Debconf/FrontEnd/Dialog.pm line 78.)\n",
            "debconf: falling back to frontend: Readline\n",
            "Adding user postgres to group ssl-cert\n",
            "\n",
            "Creating config file /etc/postgresql-common/createcluster.conf with new version\n",
            "Building PostgreSQL dictionaries from installed myspell/hunspell packages...\n",
            "Removing obsolete dictionary files:\n",
            "Created symlink /etc/systemd/system/multi-user.target.wants/postgresql.service → /lib/systemd/system/postgresql.service.\n",
            "Setting up llvm-14-dev (1:14.0.0-1ubuntu1.1) ...\n",
            "Setting up postgresql-14 (14.9-0ubuntu0.22.04.1) ...\n",
            "debconf: unable to initialize frontend: Dialog\n",
            "debconf: (No usable dialog-like program is installed, so the dialog based frontend cannot be used. at /usr/share/perl5/Debconf/FrontEnd/Dialog.pm line 78.)\n",
            "debconf: falling back to frontend: Readline\n",
            "Creating new PostgreSQL cluster 14/main ...\n",
            "/usr/lib/postgresql/14/bin/initdb -D /var/lib/postgresql/14/main --auth-local peer --auth-host scram-sha-256 --no-instructions\n",
            "The files belonging to this database system will be owned by user \"postgres\".\n",
            "This user must also own the server process.\n",
            "\n",
            "The database cluster will be initialized with locale \"en_US.UTF-8\".\n",
            "The default database encoding has accordingly been set to \"UTF8\".\n",
            "The default text search configuration will be set to \"english\".\n",
            "\n",
            "Data page checksums are disabled.\n",
            "\n",
            "fixing permissions on existing directory /var/lib/postgresql/14/main ... ok\n",
            "creating subdirectories ... ok\n",
            "selecting dynamic shared memory implementation ... posix\n",
            "selecting default max_connections ... 100\n",
            "selecting default shared_buffers ... 128MB\n",
            "selecting default time zone ... Etc/UTC\n",
            "creating configuration files ... ok\n",
            "running bootstrap script ... ok\n",
            "performing post-bootstrap initialization ... ok\n",
            "syncing data to disk ... ok\n",
            "update-alternatives: using /usr/share/postgresql/14/man/man1/postmaster.1.gz to provide /usr/share/man/man1/postmaster.1.gz (postmaster.1.gz) in auto mode\n",
            "invoke-rc.d: could not determine current runlevel\n",
            "invoke-rc.d: policy-rc.d denied execution of start.\n",
            "Setting up postgresql-server-dev-14 (14.9-0ubuntu0.22.04.1) ...\n",
            "Setting up postgresql (14+238) ...\n",
            "Setting up postgresql-server-dev-all:amd64 (238) ...\n",
            "Processing triggers for man-db (2.10.2-1) ...\n",
            "Processing triggers for libc-bin (2.35-0ubuntu3.1) ...\n",
            "/sbin/ldconfig.real: /usr/local/lib/libtbbmalloc.so.2 is not a symbolic link\n",
            "\n",
            "/sbin/ldconfig.real: /usr/local/lib/libtbbbind_2_5.so.3 is not a symbolic link\n",
            "\n",
            "/sbin/ldconfig.real: /usr/local/lib/libtbbbind.so.3 is not a symbolic link\n",
            "\n",
            "/sbin/ldconfig.real: /usr/local/lib/libtbbbind_2_0.so.3 is not a symbolic link\n",
            "\n",
            "/sbin/ldconfig.real: /usr/local/lib/libtbbmalloc_proxy.so.2 is not a symbolic link\n",
            "\n",
            "/sbin/ldconfig.real: /usr/local/lib/libtbb.so.12 is not a symbolic link\n",
            "\n",
            " * Starting PostgreSQL 14 database server\n",
            "   ...done.\n",
            "ALTER ROLE\n",
            "NOTICE:  database \"ourdb\" does not exist, skipping\n",
            "DROP DATABASE\n",
            "CREATE DATABASE\n"
          ]
        }
      ],
      "source": [
        "# We install postgres and its dev tools\n",
        "!sudo apt-get -y -qq update\n",
        "!sudo apt-get -y -qq install postgresql postgresql-server-dev-all\n",
        "#  Start postgres\n",
        "!sudo service postgresql start\n",
        "\n",
        "# Create user, password, and db\n",
        "!sudo -u postgres psql -U postgres -c \"ALTER USER postgres PASSWORD 'postgres';\"\n",
        "!sudo -u postgres psql -U postgres -c 'DROP DATABASE IF EXISTS ourdb;'\n",
        "!sudo -u postgres psql -U postgres -c 'CREATE DATABASE ourdb;'"
      ]
    },
    {
      "cell_type": "markdown",
      "source": [
        "# Install Lantern and build it from source"
      ],
      "metadata": {
        "id": "8aNc8o2AhnQE"
      }
    },
    {
      "cell_type": "code",
      "source": [
        "!git clone --recursive https://github.com/lanterndata/lantern.git"
      ],
      "metadata": {
        "colab": {
          "base_uri": "https://localhost:8080/"
        },
        "id": "KAR_YiOIrWTV",
        "outputId": "0860a414-f2ac-4284-86b9-ebe2e44746f3"
      },
      "execution_count": null,
      "outputs": [
        {
          "output_type": "stream",
          "name": "stdout",
          "text": [
            "Cloning into 'lantern'...\n",
            "remote: Enumerating objects: 2562, done.\u001b[K\n",
            "remote: Counting objects: 100% (1342/1342), done.\u001b[K\n",
            "remote: Compressing objects: 100% (414/414), done.\u001b[K\n",
            "remote: Total 2562 (delta 1068), reused 1003 (delta 922), pack-reused 1220\u001b[K\n",
            "Receiving objects: 100% (2562/2562), 578.18 KiB | 4.45 MiB/s, done.\n",
            "Resolving deltas: 100% (1698/1698), done.\n",
            "Submodule 'third_party/hnswlib' (https://github.com/ngalstyan4/hnswlib) registered for path 'third_party/hnswlib'\n",
            "Submodule 'third_party/usearch' (https://github.com/ngalstyan4/usearch) registered for path 'third_party/usearch'\n",
            "Cloning into '/content/lantern/third_party/hnswlib'...\n",
            "remote: Enumerating objects: 1723, done.        \n",
            "remote: Counting objects: 100% (333/333), done.        \n",
            "remote: Compressing objects: 100% (40/40), done.        \n",
            "remote: Total 1723 (delta 306), reused 293 (delta 293), pack-reused 1390        \n",
            "Receiving objects: 100% (1723/1723), 530.50 KiB | 8.29 MiB/s, done.\n",
            "Resolving deltas: 100% (1097/1097), done.\n",
            "Cloning into '/content/lantern/third_party/usearch'...\n",
            "remote: Enumerating objects: 4574, done.        \n",
            "remote: Counting objects: 100% (792/792), done.        \n",
            "remote: Compressing objects: 100% (97/97), done.        \n",
            "remote: Total 4574 (delta 722), reused 697 (delta 694), pack-reused 3782        \n",
            "Receiving objects: 100% (4574/4574), 4.31 MiB | 11.81 MiB/s, done.\n",
            "Resolving deltas: 100% (2535/2535), done.\n",
            "Submodule path 'third_party/hnswlib': checked out 'a64a7626342ce6e78d7864e443186b9f1d78a8f8'\n",
            "Submodule path 'third_party/usearch': checked out '211573994631f979cad3831a87563d268ed39299'\n",
            "Submodule 'fp16' (https://github.com/maratyszcza/fp16) registered for path 'third_party/usearch/fp16'\n",
            "Submodule 'robin-map' (https://github.com/tessil/robin-map) registered for path 'third_party/usearch/robin-map'\n",
            "Submodule 'simsimd' (https://github.com/ashvardanian/simsimd) registered for path 'third_party/usearch/simsimd'\n",
            "Cloning into '/content/lantern/third_party/usearch/fp16'...\n",
            "remote: Enumerating objects: 293, done.        \n",
            "remote: Counting objects: 100% (7/7), done.        \n",
            "remote: Compressing objects: 100% (7/7), done.        \n",
            "remote: Total 293 (delta 2), reused 3 (delta 0), pack-reused 286        \n",
            "Receiving objects: 100% (293/293), 108.77 KiB | 2.22 MiB/s, done.\n",
            "Resolving deltas: 100% (161/161), done.\n",
            "Cloning into '/content/lantern/third_party/usearch/robin-map'...\n",
            "remote: Enumerating objects: 1098, done.        \n",
            "remote: Counting objects: 100% (152/152), done.        \n",
            "remote: Compressing objects: 100% (58/58), done.        \n",
            "remote: Total 1098 (delta 105), reused 114 (delta 81), pack-reused 946        \n",
            "Receiving objects: 100% (1098/1098), 875.38 KiB | 9.83 MiB/s, done.\n",
            "Resolving deltas: 100% (752/752), done.\n",
            "Cloning into '/content/lantern/third_party/usearch/simsimd'...\n",
            "remote: Enumerating objects: 1772, done.        \n",
            "remote: Counting objects: 100% (196/196), done.        \n",
            "remote: Compressing objects: 100% (84/84), done.        \n",
            "remote: Total 1772 (delta 111), reused 126 (delta 101), pack-reused 1576        \n",
            "Receiving objects: 100% (1772/1772), 342.25 KiB | 5.61 MiB/s, done.\n",
            "Resolving deltas: 100% (928/928), done.\n",
            "Submodule path 'third_party/usearch/fp16': checked out '0a92994d729ff76a58f692d3028ca1b64b145d91'\n",
            "Submodule path 'third_party/usearch/robin-map': checked out '851a59e0e3063ee0e23089062090a73fd3de482d'\n",
            "Submodule path 'third_party/usearch/simsimd': checked out '74760c7d9a018bb6c959db75e7898186d79a9faa'\n"
          ]
        }
      ]
    },
    {
      "cell_type": "code",
      "source": [
        "# We build lantern from source\n",
        "%cd lantern\n",
        "!mkdir build\n",
        "%cd build\n",
        "!pwd\n",
        "!cmake ..\n",
        "!make install"
      ],
      "metadata": {
        "colab": {
          "base_uri": "https://localhost:8080/"
        },
        "id": "zgHLB3Czs5ua",
        "outputId": "a544ea65-c9f8-4f9d-b7b1-57bb5073b35f"
      },
      "execution_count": null,
      "outputs": [
        {
          "output_type": "stream",
          "name": "stdout",
          "text": [
            "/content/lantern\n",
            "/content/lantern/build\n",
            "/content/lantern/build\n",
            "\u001b[0mCMake Deprecation Warning at CMakeLists.txt:1 (cmake_minimum_required):\n",
            "  Compatibility with CMake < 3.5 will be removed from a future version of\n",
            "  CMake.\n",
            "\n",
            "  Update the VERSION argument <min> value or use a ...<max> suffix to tell\n",
            "  CMake that the project does not need compatibility with older versions.\n",
            "\n",
            "\u001b[0m\n",
            "-- The C compiler identification is GNU 11.4.0\n",
            "-- The CXX compiler identification is GNU 11.4.0\n",
            "-- Detecting C compiler ABI info\n",
            "-- Detecting C compiler ABI info - done\n",
            "-- Check for working C compiler: /usr/bin/cc - skipped\n",
            "-- Detecting C compile features\n",
            "-- Detecting C compile features - done\n",
            "-- Detecting CXX compiler ABI info\n",
            "-- Detecting CXX compiler ABI info - done\n",
            "-- Check for working CXX compiler: /usr/bin/c++ - skipped\n",
            "-- Detecting CXX compile features\n",
            "-- Detecting CXX compile features - done\n",
            "-- Build type: \n",
            "-- Found pg_config as /usr/bin/pg_config\n",
            "-- Found postgres binary at /usr/lib/postgresql/14/bin/postgres\n",
            "-- PostgreSQL version PostgreSQL 14.9 (Ubuntu 14.9-0ubuntu0.22.04.1) found\n",
            "-- PostgreSQL package library directory: /usr/lib/postgresql/14/lib\n",
            "-- PostgreSQL libraries: -lpgcommon -lpgport -lselinux -llz4 -lxslt -lxml2 -lpam -lssl -lcrypto -lgssapi_krb5 -lz -lreadline -lm\n",
            "-- PostgreSQL extension directory: /usr/share/postgresql/14/extension\n",
            "-- PostgreSQL linker options: -Wl,-Bsymbolic-functions;-flto=auto;-ffat-lto-objects;-flto=auto;-Wl,-z,relro;-Wl,-z,now;-L/usr/lib/llvm-14/lib;-Wl,--as-needed,\n",
            "-- PostgreSQL shared linker options: -Wl,-Bsymbolic-functions -flto=auto -ffat-lto-objects -flto=auto -Wl,-z,relro -Wl,-z,now -L/usr/lib/llvm-14/lib -Wl,--as-needed \n",
            "\u001b[0mCMake Deprecation Warning at third_party/usearch/c/CMakeLists.txt:1 (cmake_minimum_required):\n",
            "  Compatibility with CMake < 3.5 will be removed from a future version of\n",
            "  CMake.\n",
            "\n",
            "  Update the VERSION argument <min> value or use a ...<max> suffix to tell\n",
            "  CMake that the project does not need compatibility with older versions.\n",
            "\n",
            "\u001b[0m\n",
            "-- Configuring done (1.0s)\n",
            "-- Generating done (0.0s)\n",
            "-- Build files have been written to: /content/lantern/build\n",
            "[  5%] \u001b[32mBuilding CXX object third_party/usearch/c/CMakeFiles/usearch_c.dir/lib.cpp.o\u001b[0m\n",
            "[ 10%] \u001b[32m\u001b[1mLinking CXX static library ../../../libusearch_c.a\u001b[0m\n",
            "[ 10%] Built target usearch_c\n",
            "[ 15%] \u001b[32mBuilding C object CMakeFiles/lantern.dir/src/hnsw.c.o\u001b[0m\n",
            "[ 21%] \u001b[32mBuilding C object CMakeFiles/lantern.dir/src/hnsw/build.c.o\u001b[0m\n",
            "[ 26%] \u001b[32mBuilding C object CMakeFiles/lantern.dir/src/hnsw/delete.c.o\u001b[0m\n",
            "[ 31%] \u001b[32mBuilding C object CMakeFiles/lantern.dir/src/hnsw/external_index.c.o\u001b[0m\n",
            "[ 36%] \u001b[32mBuilding C object CMakeFiles/lantern.dir/src/hnsw/extra_dirtied.c.o\u001b[0m\n",
            "[ 42%] \u001b[32mBuilding C object CMakeFiles/lantern.dir/src/hnsw/htab_cache.c.o\u001b[0m\n",
            "[ 47%] \u001b[32mBuilding C object CMakeFiles/lantern.dir/src/hnsw/insert.c.o\u001b[0m\n",
            "[ 52%] \u001b[32mBuilding C object CMakeFiles/lantern.dir/src/hnsw/options.c.o\u001b[0m\n",
            "[ 57%] \u001b[32mBuilding C object CMakeFiles/lantern.dir/src/hnsw/retriever.c.o\u001b[0m\n",
            "[ 63%] \u001b[32mBuilding C object CMakeFiles/lantern.dir/src/hnsw/scan.c.o\u001b[0m\n",
            "[ 68%] \u001b[32mBuilding C object CMakeFiles/lantern.dir/src/hnsw/utils.c.o\u001b[0m\n",
            "[ 73%] \u001b[32mBuilding C object CMakeFiles/lantern.dir/src/hooks/executor_start.c.o\u001b[0m\n",
            "[ 78%] \u001b[32mBuilding C object CMakeFiles/lantern.dir/src/hooks/plan_tree_walker.c.o\u001b[0m\n",
            "[ 84%] \u001b[32mBuilding C object CMakeFiles/lantern.dir/src/hooks/post_parse.c.o\u001b[0m\n",
            "[ 89%] \u001b[32mBuilding C object CMakeFiles/lantern.dir/src/hooks/utils.c.o\u001b[0m\n",
            "[ 94%] \u001b[32m\u001b[1mLinking C shared module lantern.so\u001b[0m\n",
            "[ 94%] Built target lantern\n",
            "[100%] \u001b[34m\u001b[1mCopying lantern.sql into a versioned filename\u001b[0m\n",
            "[100%] Built target phony_always_runs\n",
            "\u001b[36mInstall the project...\u001b[0m\n",
            "-- Install configuration: \"\"\n",
            "-- Installing: /usr/lib/postgresql/14/lib/lantern.so\n",
            "-- Set runtime path of \"/usr/lib/postgresql/14/lib/lantern.so\" to \"\"\n",
            "-- Installing: /usr/share/postgresql/14/extension/lantern.control\n",
            "-- Installing: /usr/share/postgresql/14/extension/lantern--0.0.4.sql\n",
            "-- Installing: /usr/share/postgresql/14/extension/lantern--0.0.4--latest.sql\n"
          ]
        }
      ]
    },
    {
      "cell_type": "markdown",
      "source": [
        "# Gathering Movie Data\n",
        "As we mentioned earlier, we will use the MovieLens 1M dataset. This dataset contains over 1 million anonymous ratings of approximately 3,900 movies made by 6,040 MovieLens users.\n",
        "\n",
        "We use the following files:\n",
        "\n",
        "    movies.dat: Contains movie information.\n",
        "    movie_vectors.txt: Contains movie vectors that can be imported to Milvus easily.\n"
      ],
      "metadata": {
        "id": "YWVRfRwCrJGy"
      }
    },
    {
      "cell_type": "code",
      "source": [
        "# Download movie information\n",
        "! wget -P movie_recommender https://paddlerec.bj.bcebos.com/aistudio/movies.dat --no-check-certificate\n",
        "# Download movie vectors\n",
        "! wget -P movie_recommender https://paddlerec.bj.bcebos.com/aistudio/movie_vectors.txt --no-check-certificate"
      ],
      "metadata": {
        "colab": {
          "base_uri": "https://localhost:8080/"
        },
        "id": "6xGxk4gorJeo",
        "outputId": "33c60cad-1e4f-4d3b-b471-f7cf81749177"
      },
      "execution_count": null,
      "outputs": [
        {
          "output_type": "stream",
          "name": "stdout",
          "text": [
            "--2023-10-24 23:17:19--  https://paddlerec.bj.bcebos.com/aistudio/movies.dat\n",
            "Resolving paddlerec.bj.bcebos.com (paddlerec.bj.bcebos.com)... 103.235.46.61, 2409:8c04:1001:1002:0:ff:b001:368a\n",
            "Connecting to paddlerec.bj.bcebos.com (paddlerec.bj.bcebos.com)|103.235.46.61|:443... connected.\n",
            "HTTP request sent, awaiting response... 200 OK\n",
            "Length: 171308 (167K) [application/octet-stream]\n",
            "Saving to: ‘movie_recommender/movies.dat’\n",
            "\n",
            "movies.dat          100%[===================>] 167.29K   166KB/s    in 1.0s    \n",
            "\n",
            "2023-10-24 23:17:22 (166 KB/s) - ‘movie_recommender/movies.dat’ saved [171308/171308]\n",
            "\n",
            "--2023-10-24 23:17:22--  https://paddlerec.bj.bcebos.com/aistudio/movie_vectors.txt\n",
            "Resolving paddlerec.bj.bcebos.com (paddlerec.bj.bcebos.com)... 103.235.46.61, 2409:8c04:1001:1002:0:ff:b001:368a\n",
            "Connecting to paddlerec.bj.bcebos.com (paddlerec.bj.bcebos.com)|103.235.46.61|:443... connected.\n",
            "HTTP request sent, awaiting response... 200 OK\n",
            "Length: 1095505 (1.0M) [text/plain]\n",
            "Saving to: ‘movie_recommender/movie_vectors.txt’\n",
            "\n",
            "movie_vectors.txt   100%[===================>]   1.04M   207KB/s    in 5.8s    \n",
            "\n",
            "2023-10-24 23:17:29 (186 KB/s) - ‘movie_recommender/movie_vectors.txt’ saved [1095505/1095505]\n",
            "\n"
          ]
        }
      ]
    },
    {
      "cell_type": "markdown",
      "source": [
        "# Create Postgres Table\n",
        "\n",
        "Now that we have our movie data, let's set up `psycopg2` with postgres, and enable the lantern extension\n"
      ],
      "metadata": {
        "id": "rK226V3ghxgA"
      }
    },
    {
      "cell_type": "code",
      "source": [
        "import psycopg2\n",
        "\n",
        "# We use the dbname, user, and password that we specified above\n",
        "conn = psycopg2.connect(\n",
        "    dbname=\"ourdb\",\n",
        "    user=\"postgres\",\n",
        "    password=\"postgres\",\n",
        "    host=\"localhost\",\n",
        "    port=\"5432\" # default port for Postgres\n",
        ")\n",
        "\n",
        "# Get a new cursor\n",
        "cursor = conn.cursor()\n",
        "\n",
        "# Execute the query to load the Lantern extension in\n",
        "cursor.execute(\"CREATE EXTENSION IF NOT EXISTS lantern;\")\n",
        "\n",
        "conn.commit()\n",
        "cursor.close()"
      ],
      "metadata": {
        "id": "8TqWYvu_VMpn"
      },
      "execution_count": null,
      "outputs": []
    },
    {
      "cell_type": "markdown",
      "source": [
        "We will make a table called `movies`, and it will have 4 columns: an id, the title of the film, a string denoting the genres of the film, and a vector that will be the embedding for the movie."
      ],
      "metadata": {
        "id": "auX5iqH88yYx"
      }
    },
    {
      "cell_type": "code",
      "source": [
        "# Create the table\n",
        "cursor = conn.cursor()\n",
        "\n",
        "TABLE_NAME = \"movies\"\n",
        "\n",
        "create_table_query = f\"CREATE TABLE {TABLE_NAME} (id integer, title text, genres text, vector real[]);\"\n",
        "\n",
        "cursor.execute(create_table_query)\n",
        "\n",
        "conn.commit()\n",
        "cursor.close()"
      ],
      "metadata": {
        "id": "f1QjZNKQW_zP"
      },
      "execution_count": null,
      "outputs": []
    },
    {
      "cell_type": "markdown",
      "source": [
        "# Inserting Movie Data\n",
        "Now that we have our table, let's insert our movie data into our database.\n",
        "\n",
        "Let's first get our movie embeddings/vectors from `movie_vectors.txt` and set up a dictionary to easily get the embedding for a movie from its id.\n",
        "\n",
        "Note that the dimensionality of these embeddings is 32"
      ],
      "metadata": {
        "id": "JckbTzrJ8ujX"
      }
    },
    {
      "cell_type": "code",
      "source": [
        "import json\n",
        "import codecs\n",
        "\n",
        "def get_vectors():\n",
        "    with codecs.open(\"movie_recommender/movie_vectors.txt\", \"r\", encoding='utf-8', errors='ignore') as f:\n",
        "        lines = f.readlines()\n",
        "    ids = [int(line.split(\":\")[0]) for line in lines]\n",
        "    embeddings = []\n",
        "    for line in lines:\n",
        "        line = line.strip().split(\":\")[1][1:-1]\n",
        "        str_nums = line.split(\",\")\n",
        "        emb = [float(x) for x in str_nums]\n",
        "        embeddings.append(emb)\n",
        "    return ids, embeddings\n",
        "\n",
        "ids, embeddings = get_vectors()\n",
        "\n",
        "# make it easier to look up an embedding from a movie id\n",
        "id_to_embedding = dict(zip(ids, embeddings))\n",
        "\n",
        "\n",
        "print(f\"Dimensionality: {len(embeddings[0])}\")"
      ],
      "metadata": {
        "colab": {
          "base_uri": "https://localhost:8080/"
        },
        "id": "TPIS2mh5lhUJ",
        "outputId": "1313704f-fb1f-4ef7-e790-c32c8458f760"
      },
      "execution_count": null,
      "outputs": [
        {
          "output_type": "stream",
          "name": "stdout",
          "text": [
            "Dimensionality: 32\n"
          ]
        }
      ]
    },
    {
      "cell_type": "markdown",
      "source": [
        "Now we can process the data in `movies.dat` to get the metadata of each movie (id, title, and genre), and get the vector embedding from above. We'll insert each movie into our database:"
      ],
      "metadata": {
        "id": "EPChckhGmKEh"
      }
    },
    {
      "cell_type": "code",
      "source": [
        "cursor = conn.cursor()\n",
        "\n",
        "def process_movie(lines):\n",
        "    for line in lines:\n",
        "        if len(line.strip()) == 0:\n",
        "            continue\n",
        "        tmp = line.strip().split(\"::\")\n",
        "        movie_id = int(tmp[0])\n",
        "        title = tmp[1]\n",
        "        genres = tmp[2]\n",
        "\n",
        "        vector = id_to_embedding[movie_id]\n",
        "        cursor.execute(f\"INSERT INTO {TABLE_NAME} (id, title, genres, vector) VALUES (%s, %s, %s, %s);\", (movie_id, title, genres, vector))\n",
        "\n",
        "\n",
        "with codecs.open(\"movie_recommender/movies.dat\", \"r\",encoding='utf-8',errors='ignore') as f:\n",
        "        lines = f.readlines()\n",
        "        process_movie(lines)\n",
        "\n",
        "\n",
        "conn.commit()\n",
        "cursor.close()\n"
      ],
      "metadata": {
        "id": "OX922gQtsVio"
      },
      "execution_count": null,
      "outputs": []
    },
    {
      "cell_type": "markdown",
      "source": [
        "# Creating an Index\n",
        "Now that we have inserted the embeddings into our database, we need to construct an index in postgres using lantern. This is important because the index will tell allow postgres to use lantern when performing vector search.\n",
        "\n",
        "Note that we specify L2-squared distance as the distance metric. Also, as a good practice, we specify the dimension of vectors, 32 as mentioned above, in the index (although lantern can infer it from the vector's we've already inserted)."
      ],
      "metadata": {
        "id": "diCZ7L2G6Wqm"
      }
    },
    {
      "cell_type": "code",
      "source": [
        "cursor = conn.cursor()\n",
        "\n",
        "cursor.execute(f\"CREATE INDEX ON {TABLE_NAME} USING hnsw (vector dist_l2sq_ops) WITH (dim=32);\")\n",
        "\n",
        "conn.commit()\n",
        "cursor.close()"
      ],
      "metadata": {
        "id": "4twLD6w36W19"
      },
      "execution_count": null,
      "outputs": []
    },
    {
      "cell_type": "markdown",
      "source": [
        "# Getting Recommendations With Vector Search!\n",
        "\n",
        "Let's pick a movie below and assume that a user has really liked this movie. Let's find movies that are similar to this movie so we can recommend movies that they'll also like."
      ],
      "metadata": {
        "id": "s8J5zv09oziz"
      }
    },
    {
      "cell_type": "code",
      "source": [
        "query_movie_id = ids[69]\n",
        "query_vector = str(id_to_embedding[query_movie_id])\n",
        "\n",
        "cursor = conn.cursor()\n",
        "\n",
        "cursor.execute(f\"SELECT * FROM {TABLE_NAME} where id={query_movie_id};\")\n",
        "\n",
        "results = cursor.fetchall()\n",
        "#print(results[0])\n",
        "query_movie_title = results[0][1]\n",
        "query_movie_genre = results[0][2]\n",
        "\n",
        "\n",
        "print(f\"The user really liked the movie: {query_movie_title}, genre: {query_movie_genre}\")\n",
        "print(\"Let's find similar movies they'll also like...\")\n",
        "\n",
        "\n",
        "conn.commit()\n",
        "cursor.close()"
      ],
      "metadata": {
        "colab": {
          "base_uri": "https://localhost:8080/"
        },
        "id": "8-eGdke9ozow",
        "outputId": "6a7fb2db-8bd6-4f79-f029-31c3e89d48db"
      },
      "execution_count": null,
      "outputs": [
        {
          "output_type": "stream",
          "name": "stdout",
          "text": [
            "The user really liked the movie: From Dusk Till Dawn (1996), genre: Action|Comedy|Crime|Horror|Thriller\n",
            "Let's find similar movies they'll also like...\n"
          ]
        }
      ]
    },
    {
      "cell_type": "markdown",
      "source": [
        "To find similar movies, we will perform a vector search using lantern. We pull the 10 most similar movies (movies whose embeddings are closet to the embedding of our query movie), and specify that we don't want the same movie as the query movie."
      ],
      "metadata": {
        "id": "KLuJ0Rfs4MPK"
      }
    },
    {
      "cell_type": "code",
      "source": [
        "cursor = conn.cursor()\n",
        "\n",
        "cursor.execute(\"SET enable_seqscan = false;\")\n",
        "cursor.execute(f\"SELECT id, title, genres FROM {TABLE_NAME} WHERE id != {query_movie_id} ORDER BY vector <-> ARRAY{query_vector} LIMIT 10;\")\n",
        "\n",
        "results = cursor.fetchall()\n",
        "\n",
        "print(f\"Recommendations if you liked '{query_movie_title}':\\n\")\n",
        "for i,r in enumerate(results):\n",
        "  print(f\"#{i+1}. {r[1]}, Genre: {r[2]}\")\n",
        "\n",
        "conn.commit()\n",
        "cursor.close()"
      ],
      "metadata": {
        "colab": {
          "base_uri": "https://localhost:8080/"
        },
        "id": "2fgZtx-04MXY",
        "outputId": "d9518b99-510c-490a-ae37-2990331949df"
      },
      "execution_count": null,
      "outputs": [
        {
          "output_type": "stream",
          "name": "stdout",
          "text": [
            "Recommendations if you liked 'From Dusk Till Dawn (1996)':\n",
            "\n",
            "#1. Strange Days (1995), Genre: Action|Crime|Sci-Fi\n",
            "#2. Westworld (1973), Genre: Action|Sci-Fi|Thriller|Western\n",
            "#3. Tank Girl (1995), Genre: Action|Comedy|Musical|Sci-Fi\n",
            "#4. Thirteenth Floor, The (1999), Genre: Drama|Sci-Fi|Thriller\n",
            "#5. Alien Nation (1988), Genre: Crime|Drama|Sci-Fi\n",
            "#6. Puppet Master (1989), Genre: Horror|Sci-Fi|Thriller\n",
            "#7. Village of the Damned (1960), Genre: Horror|Sci-Fi|Thriller\n",
            "#8. Dog Day Afternoon (1975), Genre: Comedy|Crime|Drama\n",
            "#9. Young Guns (1988), Genre: Action|Comedy|Western\n",
            "#10. Sneakers (1992), Genre: Crime|Drama|Sci-Fi\n"
          ]
        }
      ]
    },
    {
      "cell_type": "markdown",
      "source": [
        "# Conclusion\n",
        "As we can see, we get movies that are similar to the original movie that we can now recommend to the user. A lot of these share the same genre as the original movie.\n",
        "\n",
        "And that's how you can implement a movie recommendation system using Lantern.\n",
        "\n",
        "\n"
      ],
      "metadata": {
        "id": "MUxQidRR9Bw8"
      }
    },
    {
      "cell_type": "markdown",
      "source": [
        "### Cleanup"
      ],
      "metadata": {
        "id": "ru3cNDcnZGgM"
      }
    },
    {
      "cell_type": "code",
      "source": [
        "# Close the postgres connection\n",
        "conn.close()"
      ],
      "metadata": {
        "id": "J3vHbwg3ZGoV"
      },
      "execution_count": null,
      "outputs": []
    }
  ]
}